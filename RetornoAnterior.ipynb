{
 "cells": [
  {
   "cell_type": "code",
   "execution_count": 30,
   "metadata": {
    "collapsed": true,
    "ExecuteTime": {
     "start_time": "2023-08-04T17:22:07.362711Z",
     "end_time": "2023-08-04T17:22:07.374679Z"
    }
   },
   "outputs": [],
   "source": [
    "import yfinance as yf\n",
    "import pandas as pd\n",
    "import matplotlib.pyplot as plt\n",
    "import math"
   ]
  },
  {
   "cell_type": "code",
   "execution_count": 136,
   "outputs": [],
   "source": [
    "ticket = \"PETR3.SA\""
   ],
   "metadata": {
    "collapsed": false,
    "ExecuteTime": {
     "start_time": "2023-08-04T17:54:28.124040Z",
     "end_time": "2023-08-04T17:54:28.144984Z"
    }
   }
  },
  {
   "cell_type": "code",
   "execution_count": 141,
   "outputs": [
    {
     "name": "stdout",
     "output_type": "stream",
     "text": [
      "[*********************100%***********************]  1 of 1 completed\n"
     ]
    }
   ],
   "source": [
    "data = yf.download(ticket, period=\"3y\")"
   ],
   "metadata": {
    "collapsed": false,
    "ExecuteTime": {
     "start_time": "2023-08-04T17:54:39.426433Z",
     "end_time": "2023-08-04T17:54:40.243425Z"
    }
   }
  },
  {
   "cell_type": "code",
   "execution_count": 142,
   "outputs": [],
   "source": [
    "data.drop(['High', 'Low','Close','Volume', 'Open'], axis=1, inplace=True)"
   ],
   "metadata": {
    "collapsed": false,
    "ExecuteTime": {
     "start_time": "2023-08-04T17:54:40.467886Z",
     "end_time": "2023-08-04T17:54:40.480033Z"
    }
   }
  },
  {
   "cell_type": "code",
   "execution_count": 143,
   "outputs": [
    {
     "data": {
      "text/plain": "            Adj Close\nDate                 \n2020-08-04   9.497450\n2020-08-05  10.110465\n2020-08-06  10.144521\n2020-08-07   9.923154\n2020-08-10  10.259461\n...               ...\n2023-07-28  33.070000\n2023-07-31  34.810001\n2023-08-01  34.080002\n2023-08-02  33.840000\n2023-08-04  32.880001\n\n[746 rows x 1 columns]",
      "text/html": "<div>\n<style scoped>\n    .dataframe tbody tr th:only-of-type {\n        vertical-align: middle;\n    }\n\n    .dataframe tbody tr th {\n        vertical-align: top;\n    }\n\n    .dataframe thead th {\n        text-align: right;\n    }\n</style>\n<table border=\"1\" class=\"dataframe\">\n  <thead>\n    <tr style=\"text-align: right;\">\n      <th></th>\n      <th>Adj Close</th>\n    </tr>\n    <tr>\n      <th>Date</th>\n      <th></th>\n    </tr>\n  </thead>\n  <tbody>\n    <tr>\n      <th>2020-08-04</th>\n      <td>9.497450</td>\n    </tr>\n    <tr>\n      <th>2020-08-05</th>\n      <td>10.110465</td>\n    </tr>\n    <tr>\n      <th>2020-08-06</th>\n      <td>10.144521</td>\n    </tr>\n    <tr>\n      <th>2020-08-07</th>\n      <td>9.923154</td>\n    </tr>\n    <tr>\n      <th>2020-08-10</th>\n      <td>10.259461</td>\n    </tr>\n    <tr>\n      <th>...</th>\n      <td>...</td>\n    </tr>\n    <tr>\n      <th>2023-07-28</th>\n      <td>33.070000</td>\n    </tr>\n    <tr>\n      <th>2023-07-31</th>\n      <td>34.810001</td>\n    </tr>\n    <tr>\n      <th>2023-08-01</th>\n      <td>34.080002</td>\n    </tr>\n    <tr>\n      <th>2023-08-02</th>\n      <td>33.840000</td>\n    </tr>\n    <tr>\n      <th>2023-08-04</th>\n      <td>32.880001</td>\n    </tr>\n  </tbody>\n</table>\n<p>746 rows × 1 columns</p>\n</div>"
     },
     "execution_count": 143,
     "metadata": {},
     "output_type": "execute_result"
    }
   ],
   "source": [
    "data"
   ],
   "metadata": {
    "collapsed": false,
    "ExecuteTime": {
     "start_time": "2023-08-04T17:54:41.210161Z",
     "end_time": "2023-08-04T17:54:41.228114Z"
    }
   }
  },
  {
   "cell_type": "code",
   "execution_count": 147,
   "outputs": [],
   "source": [
    "data['Oscilacao'] = (data['Adj Close'].shift(-1) - data['Adj Close'])/data['Adj Close']"
   ],
   "metadata": {
    "collapsed": false,
    "ExecuteTime": {
     "start_time": "2023-08-04T17:55:36.461487Z",
     "end_time": "2023-08-04T17:55:36.479003Z"
    }
   }
  },
  {
   "cell_type": "code",
   "execution_count": 148,
   "outputs": [],
   "source": [
    "data['Oscilacao_t+1'] = data['Oscilacao'].shift(-1)\n",
    "data['Oscilacao_t+2'] = data['Oscilacao'].shift(-2)"
   ],
   "metadata": {
    "collapsed": false,
    "ExecuteTime": {
     "start_time": "2023-08-04T17:55:37.191858Z",
     "end_time": "2023-08-04T17:55:37.205821Z"
    }
   }
  },
  {
   "cell_type": "code",
   "execution_count": 157,
   "outputs": [
    {
     "data": {
      "text/plain": "            Adj Close  Oscilacao  Oscilacao_t+1  Oscilacao_t+2\nDate                                                          \n2020-08-04   9.497450   0.064545       0.003368      -0.021821\n2020-08-05  10.110465   0.003368      -0.021821       0.033891\n2020-08-06  10.144521  -0.021821       0.033891      -0.017013\n2020-08-07   9.923154   0.033891      -0.017013       0.015196\n2020-08-10  10.259461  -0.017013       0.015196      -0.029522\n...               ...        ...            ...            ...\n2023-07-28  33.070000   0.052616      -0.020971      -0.007042\n2023-07-31  34.810001  -0.020971      -0.007042      -0.028369\n2023-08-01  34.080002  -0.007042      -0.028369            NaN\n2023-08-02  33.840000  -0.028369            NaN            NaN\n2023-08-04  32.880001        NaN            NaN            NaN\n\n[746 rows x 4 columns]",
      "text/html": "<div>\n<style scoped>\n    .dataframe tbody tr th:only-of-type {\n        vertical-align: middle;\n    }\n\n    .dataframe tbody tr th {\n        vertical-align: top;\n    }\n\n    .dataframe thead th {\n        text-align: right;\n    }\n</style>\n<table border=\"1\" class=\"dataframe\">\n  <thead>\n    <tr style=\"text-align: right;\">\n      <th></th>\n      <th>Adj Close</th>\n      <th>Oscilacao</th>\n      <th>Oscilacao_t+1</th>\n      <th>Oscilacao_t+2</th>\n    </tr>\n    <tr>\n      <th>Date</th>\n      <th></th>\n      <th></th>\n      <th></th>\n      <th></th>\n    </tr>\n  </thead>\n  <tbody>\n    <tr>\n      <th>2020-08-04</th>\n      <td>9.497450</td>\n      <td>0.064545</td>\n      <td>0.003368</td>\n      <td>-0.021821</td>\n    </tr>\n    <tr>\n      <th>2020-08-05</th>\n      <td>10.110465</td>\n      <td>0.003368</td>\n      <td>-0.021821</td>\n      <td>0.033891</td>\n    </tr>\n    <tr>\n      <th>2020-08-06</th>\n      <td>10.144521</td>\n      <td>-0.021821</td>\n      <td>0.033891</td>\n      <td>-0.017013</td>\n    </tr>\n    <tr>\n      <th>2020-08-07</th>\n      <td>9.923154</td>\n      <td>0.033891</td>\n      <td>-0.017013</td>\n      <td>0.015196</td>\n    </tr>\n    <tr>\n      <th>2020-08-10</th>\n      <td>10.259461</td>\n      <td>-0.017013</td>\n      <td>0.015196</td>\n      <td>-0.029522</td>\n    </tr>\n    <tr>\n      <th>...</th>\n      <td>...</td>\n      <td>...</td>\n      <td>...</td>\n      <td>...</td>\n    </tr>\n    <tr>\n      <th>2023-07-28</th>\n      <td>33.070000</td>\n      <td>0.052616</td>\n      <td>-0.020971</td>\n      <td>-0.007042</td>\n    </tr>\n    <tr>\n      <th>2023-07-31</th>\n      <td>34.810001</td>\n      <td>-0.020971</td>\n      <td>-0.007042</td>\n      <td>-0.028369</td>\n    </tr>\n    <tr>\n      <th>2023-08-01</th>\n      <td>34.080002</td>\n      <td>-0.007042</td>\n      <td>-0.028369</td>\n      <td>NaN</td>\n    </tr>\n    <tr>\n      <th>2023-08-02</th>\n      <td>33.840000</td>\n      <td>-0.028369</td>\n      <td>NaN</td>\n      <td>NaN</td>\n    </tr>\n    <tr>\n      <th>2023-08-04</th>\n      <td>32.880001</td>\n      <td>NaN</td>\n      <td>NaN</td>\n      <td>NaN</td>\n    </tr>\n  </tbody>\n</table>\n<p>746 rows × 4 columns</p>\n</div>"
     },
     "execution_count": 157,
     "metadata": {},
     "output_type": "execute_result"
    }
   ],
   "source": [
    "data"
   ],
   "metadata": {
    "collapsed": false,
    "ExecuteTime": {
     "start_time": "2023-08-04T17:58:33.297367Z",
     "end_time": "2023-08-04T17:58:33.316316Z"
    }
   }
  },
  {
   "cell_type": "code",
   "execution_count": 158,
   "outputs": [
    {
     "data": {
      "text/plain": "<Figure size 640x480 with 1 Axes>",
      "image/png": "[encoded data removed]"
     },
     "metadata": {},
     "output_type": "display_data"
    }
   ],
   "source": [
    "plt.hist(data['Oscilacao'], bins=25, edgecolor='black')\n",
    "plt.xlabel('Oscilação')\n",
    "plt.ylabel('Frequência')\n",
    "plt.title('Distribuição da coluna \"Oscilacao\"')\n",
    "plt.show()"
   ],
   "metadata": {
    "collapsed": false,
    "ExecuteTime": {
     "start_time": "2023-08-04T17:58:34.824434Z",
     "end_time": "2023-08-04T17:58:34.977118Z"
    }
   }
  },
  {
   "cell_type": "code",
   "execution_count": 159,
   "outputs": [],
   "source": [
    "mask_positivos = data['Oscilacao'] > 0\n",
    "mask_negativos = data['Oscilacao'] < 0\n",
    "ext_inf = round(len(data[mask_positivos]['Oscilacao'])*0.4)\n",
    "ext_sup = round(len(data[mask_positivos]['Oscilacao'])*0.8)\n",
    "num_ext_inf = sorted(data[mask_positivos]['Oscilacao'])[ext_inf]\n",
    "num_ext_sup = sorted(data[mask_positivos]['Oscilacao'])[ext_sup]\n",
    "mask_inf = num_ext_inf < data['Oscilacao']\n",
    "mask_sup = num_ext_sup > data['Oscilacao']\n",
    "mask_positivos_filtrados = mask_sup & mask_inf"
   ],
   "metadata": {
    "collapsed": false,
    "ExecuteTime": {
     "start_time": "2023-08-04T17:58:36.202007Z",
     "end_time": "2023-08-04T17:58:36.211981Z"
    }
   }
  },
  {
   "cell_type": "code",
   "execution_count": 160,
   "outputs": [
    {
     "name": "stdout",
     "output_type": "stream",
     "text": [
      "\n",
      "media oscilacao t+1 = 0.002723675294100324\n",
      "var oscilacao t+1 = 0.0006374402729603213\n",
      "media oscilacao t+2 = -0.000781054193207644\n",
      "var oscilacao t+2 = 0.0005663058017466154\n",
      "\n"
     ]
    }
   ],
   "source": [
    "print(f\"\"\"\n",
    "media oscilacao t+1 = {data[mask_positivos_filtrados]['Oscilacao_t+1'].mean()}\n",
    "var oscilacao t+1 = {data[mask_positivos_filtrados]['Oscilacao_t+1'].var()}\n",
    "media oscilacao t+2 = {data[mask_positivos_filtrados]['Oscilacao_t+2'].mean()}\n",
    "var oscilacao t+2 = {data[mask_positivos_filtrados]['Oscilacao_t+2'].var()}\n",
    "\"\"\")"
   ],
   "metadata": {
    "collapsed": false,
    "ExecuteTime": {
     "start_time": "2023-08-04T17:58:36.875766Z",
     "end_time": "2023-08-04T17:58:36.892722Z"
    }
   }
  },
  {
   "cell_type": "code",
   "execution_count": 161,
   "outputs": [],
   "source": [
    "mask_negativos = data['Oscilacao'] < 0\n",
    "ext_inf_neg = round(len(data[mask_negativos]['Oscilacao'])*0.4)\n",
    "ext_sup_neg = round(len(data[mask_negativos]['Oscilacao'])*0.8)\n",
    "num_ext_inf_neg = sorted(data[mask_negativos]['Oscilacao'])[ext_inf_neg]\n",
    "num_ext_sup_neg = sorted(data[mask_negativos]['Oscilacao'])[ext_sup_neg]\n",
    "mask_inf_neg = num_ext_inf_neg < data['Oscilacao']\n",
    "mask_sup_neg = num_ext_sup_neg > data['Oscilacao']\n",
    "mask_neg_filtrados = mask_inf_neg & mask_sup_neg"
   ],
   "metadata": {
    "collapsed": false,
    "ExecuteTime": {
     "start_time": "2023-08-04T17:58:37.967410Z",
     "end_time": "2023-08-04T17:58:37.998327Z"
    }
   }
  },
  {
   "cell_type": "code",
   "execution_count": 166,
   "outputs": [
    {
     "name": "stdout",
     "output_type": "stream",
     "text": [
      "\n",
      "media oscilacao t+1 = -0.0006861946568183288\n",
      "var oscilacao t+1 = 0.0006393663523760499\n",
      "media oscilacao t+2 = -9.514696802344316e-05\n",
      "var oscilacao t+2 = 0.0008350479991333875\n",
      "\n"
     ]
    }
   ],
   "source": [
    "print(f\"\"\"\n",
    "media oscilacao t+1 = {data[mask_neg_filtrados]['Oscilacao_t+1'].mean()}\n",
    "var oscilacao t+1 = {data[mask_neg_filtrados]['Oscilacao_t+1'].var()}\n",
    "media oscilacao t+2 = {data[mask_neg_filtrados]['Oscilacao_t+2'].mean()}\n",
    "var oscilacao t+2 = {data[mask_neg_filtrados]['Oscilacao_t+2'].var()}\n",
    "\"\"\")"
   ],
   "metadata": {
    "collapsed": false,
    "ExecuteTime": {
     "start_time": "2023-08-04T17:58:40.007513Z",
     "end_time": "2023-08-04T17:58:40.023468Z"
    }
   }
  },
  {
   "cell_type": "code",
   "execution_count": 167,
   "outputs": [
    {
     "data": {
      "text/plain": "<Figure size 640x480 with 1 Axes>",
      "image/png": "[encoded data removed]"
     },
     "metadata": {},
     "output_type": "display_data"
    }
   ],
   "source": [
    "plt.hist(data[mask_neg_filtrados]['Oscilacao_t+1'], bins=25, edgecolor='black')\n",
    "plt.xlabel('Oscilação')\n",
    "plt.ylabel('Frequência')\n",
    "plt.title('Distribuição da coluna \"Oscilacao\"')\n",
    "plt.show()"
   ],
   "metadata": {
    "collapsed": false,
    "ExecuteTime": {
     "start_time": "2023-08-04T17:58:43.729663Z",
     "end_time": "2023-08-04T17:58:43.891289Z"
    }
   }
  },
  {
   "cell_type": "code",
   "execution_count": 168,
   "outputs": [
    {
     "data": {
      "text/plain": "[-0.09803198283876914,\n -0.07917093069034403,\n -0.0765485102326639,\n -0.07251315552533008,\n -0.0704304433721933,\n -0.06669051405214119,\n -0.04565855064178047,\n -0.03738638159787255,\n -0.03703728635729218,\n -0.033912756384562794,\n -0.03169012611335638,\n -0.028368767143733035,\n -0.027855178426637636,\n -0.026608328726600333,\n -0.024924231481027723,\n -0.02476014315283767,\n -0.024178123831408195,\n -0.023616469891389335,\n -0.021572604833275687,\n -0.019555151801587324,\n -0.01862100070190237,\n -0.018410818947226498,\n -0.018162075971159826,\n -0.017284870451221807,\n -0.016831778258946613,\n -0.016140263271707346,\n -0.015378934981568941,\n -0.01519296411641967,\n -0.014374250176247232,\n -0.014276261434600413,\n -0.014153245058729773,\n -0.013513430524716354,\n -0.013333252542810585,\n -0.012601325465032263,\n -0.012174552080510138,\n -0.011010391773891957,\n -0.010994479585415285,\n -0.00998172850609192,\n -0.00970348913605186,\n -0.009482084947436593,\n -0.009380243570564403,\n -0.009275042085192725,\n -0.009081141987065682,\n -0.007738521421164993,\n -0.007692323228977355,\n -0.006993047009116492,\n -0.00671677623036998,\n -0.005403791586754813,\n -0.004687921734618292,\n -0.004687103095865005,\n -0.004543462849692388,\n -0.004420114822796123,\n -0.004284109779743251,\n -0.0040019315959952,\n -0.003515707167260028,\n -0.0032237533065987917,\n -0.0031249717009963025,\n -0.0030422414776561674,\n -0.0021453741426243214,\n -0.0017106002992917763,\n -0.0016883660056920028,\n -0.0015086829290499352,\n -0.001365249241729494,\n -0.0011469805739013836,\n -0.00036823315039293284,\n 0.0,\n 0.0,\n 0.0002755508925761871,\n 0.00034685014691361214,\n 0.0005479122689186476,\n 0.0008579062006519627,\n 0.0009191485234197916,\n 0.001092865272332574,\n 0.0011019332701001012,\n 0.0013665426589661374,\n 0.0014619802777696975,\n 0.0022914612652287104,\n 0.004273573825535482,\n 0.004291785138667011,\n 0.004326137031268943,\n 0.004479633708309542,\n 0.0046433944373642,\n 0.005576217843329858,\n 0.006025934655462942,\n 0.006423389118515538,\n 0.006689010577950842,\n 0.007297139878809311,\n 0.008948023595380961,\n 0.009194693321313438,\n 0.00969173158107044,\n 0.009932497340178285,\n 0.0099756380626337,\n 0.010584279827280366,\n 0.010726243920646568,\n 0.010762831100035671,\n 0.01086957856561075,\n 0.011915198852315295,\n 0.012007404311182848,\n 0.013767916257615056,\n 0.014601366339634861,\n 0.015135125322686705,\n 0.015418497582666512,\n 0.015854198866521813,\n 0.016387511064955017,\n 0.016565347125220644,\n 0.01658208064662933,\n 0.016666707217631468,\n 0.016887015134413454,\n 0.01785731314396925,\n 0.018482208460165843,\n 0.018664173294301718,\n 0.019930669349248153,\n 0.020073006264299312,\n 0.020209104959066,\n 0.020309143827612473,\n 0.020797196590112237,\n 0.02248708711920293,\n 0.024024963493440663,\n 0.02466946988168922,\n 0.025516351552903004,\n 0.026587825251881348,\n 0.026710055194944037,\n 0.02704199408518504,\n 0.02909969280443168,\n 0.029354024697766257,\n 0.029636922082809866,\n 0.030474982323458077,\n 0.03130096096221775,\n 0.031863973149311775,\n 0.03399923117276956,\n 0.03401816749639049,\n 0.03727788433869995,\n 0.03780175231156775,\n 0.0503312447951551,\n 0.05782168281357418,\n 0.06745071824841953]"
     },
     "execution_count": 168,
     "metadata": {},
     "output_type": "execute_result"
    }
   ],
   "source": [
    "sorted(data[mask_neg_filtrados]['Oscilacao_t+1'])"
   ],
   "metadata": {
    "collapsed": false,
    "ExecuteTime": {
     "start_time": "2023-08-04T17:58:44.445498Z",
     "end_time": "2023-08-04T17:58:44.464450Z"
    }
   }
  }
 ],
 "metadata": {
  "kernelspec": {
   "display_name": "Python 3",
   "language": "python",
   "name": "python3"
  },
  "language_info": {
   "codemirror_mode": {
    "name": "ipython",
    "version": 2
   },
   "file_extension": ".py",
   "mimetype": "text/x-python",
   "name": "python",
   "nbconvert_exporter": "python",
   "pygments_lexer": "ipython2",
   "version": "2.7.6"
  }
 },
 "nbformat": 4,
 "nbformat_minor": 0
}
